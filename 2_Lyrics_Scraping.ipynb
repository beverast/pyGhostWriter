{
 "cells": [
  {
   "cell_type": "markdown",
   "metadata": {},
   "source": [
    "## Scraping Lyrics Using MetroLyrics and LastFM\n",
    "###### Updated on 10/7/2019\n",
    "----------------"
   ]
  },
  {
   "cell_type": "markdown",
   "metadata": {},
   "source": [
    "#### To create conda environment from file:\n",
    "\n",
    "1. `cd` into `pyGhostWriter` repo\n",
    "2. `conda env create --file environment.yml`\n",
    "3. (Optional) `source ~/.bashrc`"
   ]
  },
  {
   "cell_type": "code",
   "execution_count": null,
   "metadata": {
    "scrolled": true
   },
   "outputs": [],
   "source": [
    "!pip install tswift"
   ]
  },
  {
   "cell_type": "code",
   "execution_count": 19,
   "metadata": {},
   "outputs": [],
   "source": [
    "import random\n",
    "\n",
    "import numpy as np\n",
    "import pandas as pd\n",
    "import requests as r\n",
    "from tswift import Artist, Song"
   ]
  },
  {
   "cell_type": "markdown",
   "metadata": {},
   "source": [
    "### MetroLyrics with `tswift` Usage Example"
   ]
  },
  {
   "cell_type": "code",
   "execution_count": 7,
   "metadata": {},
   "outputs": [
    {
     "data": {
      "text/plain": [
       "[Song(title='I Dont Know Whats Going On', artist='The Cure'),\n",
       " Song(title='1015 Saturday Night', artist='The Cure'),\n",
       " Song(title='13Th', artist='The Cure'),\n",
       " Song(title='2 Late', artist='The Cure'),\n",
       " Song(title='39', artist='The Cure'),\n",
       " Song(title='A Boy I Never Knew', artist='The Cure'),\n",
       " Song(title='A Chain Of Flowers', artist='The Cure'),\n",
       " Song(title='A Few Hours After This', artist='The Cure'),\n",
       " Song(title='A Foolish Arrangement', artist='The Cure'),\n",
       " Song(title='A Forest', artist='The Cure')]"
      ]
     },
     "execution_count": 7,
     "metadata": {},
     "output_type": "execute_result"
    }
   ],
   "source": [
    "# Verify tswift is operational\n",
    "the_cure = Artist('The Cure')\n",
    "the_cure.songs[:10]"
   ]
  },
  {
   "cell_type": "code",
   "execution_count": 12,
   "metadata": {
    "scrolled": true
   },
   "outputs": [
    {
     "name": "stdout",
     "output_type": "stream",
     "text": [
      "I ride into your town on a big black trojan horse\n",
      "I'm looking to have some fun\n",
      "Some kind of trigger-happy intercourse\n",
      "'Club America salutes you,' says the girl on the door\n",
      "'We accept all major lies\n",
      "We love any kind of fraud\n",
      "So go on in and enjoy...\n",
      "Go on in and enjoy!'\n",
      "\n",
      "I'm buying for my bright new friends\n",
      "Blue Suzannes all round\n",
      "And my mood is heavily pregnant...\n",
      "Yeah you're right\n",
      "I couldn't help but notice your icy blue eyes\n",
      "They've been burning two holes in the sides of my head\n",
      "Since the second I arrived\n",
      "\n",
      "And it's not too hard to guess from your stick-on stars\n",
      "And your canary feather dress\n",
      "Your hair in such a carefully careless mess\n",
      "That you're really trying very hard to impress\n",
      "\n",
      "You're such a wonderful person living a fabulous life\n",
      "Sensational dazzling perfectly sized\n",
      "Such a wonderful person living a fabulous life\n",
      "Sharing it with me in Club America tonight...\n",
      "\n",
      "So we talk for a while about some band you saw on TV\n",
      "But I don't listen to you and you don't listen to me\n",
      "Yeah it's an old routine but it's a very special part of the game\n",
      "And you don't really care what I call you at all\n",
      "When I can't quite remember your name\n",
      "\n",
      "And it's not too hard to guess from your stick-on stars\n",
      "And your canary feather dress\n",
      "The way you're so carefully couldn't care less\n",
      "That you're really trying very hard to impress\n",
      "\n",
      "You're such a wonderful person living a fabulous life\n",
      "Sensational dazzling perfectly sized\n",
      "Such a wonderful person living a fabulous life\n",
      "Sharing it with me tonight\n",
      "\n",
      "Yeah you're a wonderful person living a fabulous life\n",
      "Fantastic divine and thrillingly bright\n",
      "Such a wonderful person living a fabulous lie\n",
      "With me in Club America tonight...\n",
      "<|endoftext|>\n"
     ]
    }
   ],
   "source": [
    "# <|endoftext|> is the GPT-2 training data delimiter\n",
    "song = random.choice(the_cure.songs)\n",
    "print(song.lyrics+'\\n<|endoftext|>')"
   ]
  },
  {
   "cell_type": "code",
   "execution_count": 13,
   "metadata": {},
   "outputs": [],
   "source": [
    "# Create dataframe of all songs and lyrics for The Cure\n",
    "lyrics_dict = {s.title: s.lyrics for s in the_cure.songs}\n",
    "lyrics_zipped = list(zip(lyrics_dict.keys(), lyrics_dict.values()))"
   ]
  },
  {
   "cell_type": "code",
   "execution_count": 17,
   "metadata": {},
   "outputs": [
    {
     "name": "stdout",
     "output_type": "stream",
     "text": [
      "Observations/Songs:  301\n"
     ]
    },
    {
     "data": {
      "text/html": [
       "<div>\n",
       "<style scoped>\n",
       "    .dataframe tbody tr th:only-of-type {\n",
       "        vertical-align: middle;\n",
       "    }\n",
       "\n",
       "    .dataframe tbody tr th {\n",
       "        vertical-align: top;\n",
       "    }\n",
       "\n",
       "    .dataframe thead th {\n",
       "        text-align: right;\n",
       "    }\n",
       "</style>\n",
       "<table border=\"1\" class=\"dataframe\">\n",
       "  <thead>\n",
       "    <tr style=\"text-align: right;\">\n",
       "      <th></th>\n",
       "      <th>title</th>\n",
       "      <th>lyrics</th>\n",
       "    </tr>\n",
       "  </thead>\n",
       "  <tbody>\n",
       "    <tr>\n",
       "      <th>0</th>\n",
       "      <td>I Dont Know Whats Going On</td>\n",
       "      <td>I don't know what's going on\\nI am so up close...</td>\n",
       "    </tr>\n",
       "    <tr>\n",
       "      <th>1</th>\n",
       "      <td>1015 Saturday Night</td>\n",
       "      <td>10.15 on a Saturday night\\nAnd the tap\\nDrips ...</td>\n",
       "    </tr>\n",
       "    <tr>\n",
       "      <th>2</th>\n",
       "      <td>13Th</td>\n",
       "      <td>'Everyone feels good in the room,' she swings\\...</td>\n",
       "    </tr>\n",
       "    <tr>\n",
       "      <th>3</th>\n",
       "      <td>2 Late</td>\n",
       "      <td>So I'll wait for you\\nWhere I always wait\\nBeh...</td>\n",
       "    </tr>\n",
       "    <tr>\n",
       "      <th>4</th>\n",
       "      <td>39</td>\n",
       "      <td>So the fire is almost out and there's nothing ...</td>\n",
       "    </tr>\n",
       "  </tbody>\n",
       "</table>\n",
       "</div>"
      ],
      "text/plain": [
       "                        title  \\\n",
       "0  I Dont Know Whats Going On   \n",
       "1         1015 Saturday Night   \n",
       "2                        13Th   \n",
       "3                      2 Late   \n",
       "4                          39   \n",
       "\n",
       "                                              lyrics  \n",
       "0  I don't know what's going on\\nI am so up close...  \n",
       "1  10.15 on a Saturday night\\nAnd the tap\\nDrips ...  \n",
       "2  'Everyone feels good in the room,' she swings\\...  \n",
       "3  So I'll wait for you\\nWhere I always wait\\nBeh...  \n",
       "4  So the fire is almost out and there's nothing ...  "
      ]
     },
     "execution_count": 17,
     "metadata": {},
     "output_type": "execute_result"
    }
   ],
   "source": [
    "lyrics_df = pd.DataFrame(lyrics_zipped, columns=['title', 'lyrics'])\n",
    "\n",
    "print('Observations/Songs: ', len(lyrics_df))\n",
    "lyrics_df.head()"
   ]
  },
  {
   "cell_type": "markdown",
   "metadata": {},
   "source": [
    "### LastFM Query Examples"
   ]
  },
  {
   "cell_type": "code",
   "execution_count": 22,
   "metadata": {},
   "outputs": [
    {
     "data": {
      "text/plain": [
       "<Response [200]>"
      ]
     },
     "execution_count": 22,
     "metadata": {},
     "output_type": "execute_result"
    }
   ],
   "source": [
    "# Query similar artists of The Cure\n",
    "# To run LastFM queries input your API key\n",
    "response = r.get('http://ws.audioscrobbler.com/2.0/?method=artist.getsimilar&artist=thecure&api_key=API_KEY&format=json')\n",
    "response"
   ]
  },
  {
   "cell_type": "code",
   "execution_count": 36,
   "metadata": {},
   "outputs": [
    {
     "name": "stdout",
     "output_type": "stream",
     "text": [
      "['The Glove', 'Siouxsie and the Banshees', 'New Order', 'Joy Division', 'Bauhaus', 'The Smiths', 'Echo & the Bunnymen', 'Depeche Mode', 'The Sisters of Mercy', 'The Chameleons', 'Peter Murphy', 'The Jesus and Mary Chain', 'Nick Cave & The Bad Seeds', 'The Church', 'The Psychedelic Furs', 'Cocteau Twins', 'Love And Rockets', 'The Sound', 'Talking Heads', 'Morrissey', 'Killing Joke', 'Japan', 'Christian Death', 'Public Image Ltd.', 'Sonic Youth', 'The The', 'Gang of Four', 'Xmal Deutschland', 'Simple Minds', 'Sad Lovers and Giants', 'The Mission', 'New Model Army', 'Modern English', 'Tones on Tail', 'The Creatures', 'Duran Duran', 'XTC', 'Wire', 'The Stranglers', 'Devo', 'Adam and the Ants', 'Pixies', 'Interpol', 'The Damned', 'Placebo', 'Magazine', 'Gene Loves Jezebel', 'Alien Sex Fiend', 'She Wants Revenge', 'Tears for Fears', \"The B-52's\", 'R.E.M.', 'Red Lorry Yellow Lorry', 'Gary Numan', 'Television', 'Fad Gadget', 'U2', 'The Cult', 'Soft Cell', 'Pet Shop Boys', 'Talk Talk', 'Oingo Boingo', 'PJ Harvey', 'The Teardrop Explodes', 'Elvis Costello', 'The Soft Moon', 'The Danse Society', 'The Cars', 'The Fall', 'Orchestral Manoeuvres in the Dark', 'Electronic', 'The Feelies', 'Martin L. Gore', 'Radiohead', 'The Human League', 'Adam Ant', 'Hüsker Dü', 'Billy Idol', 'Blondie', 'The Replacements', 'The Birthday Party', 'Pink Turns Blue', 'Wipers', 'Roxy Music', 'INXS', 'Wall of Voodoo', 'Elvis Costello & The Attractions', 'The Comsat Angels', 'The Police', 'Dave Gahan', 'a-ha', 'Dinosaur Jr.', 'Virgin Prunes', 'Tubeway Army', 'Visage', 'Big Country', 'Skeletal Family', 'And Also The Trees', 'Siouxsie', 'Violent Femmes']\n"
     ]
    }
   ],
   "source": [
    "resp_json = response.json()['similarartists']['artist']\n",
    "\n",
    "print([band['name'] for band in resp_json])"
   ]
  },
  {
   "cell_type": "code",
   "execution_count": 37,
   "metadata": {},
   "outputs": [
    {
     "data": {
      "text/plain": [
       "<Response [200]>"
      ]
     },
     "execution_count": 37,
     "metadata": {},
     "output_type": "execute_result"
    }
   ],
   "source": [
    "# Query top tags for The Cure\n",
    "response = r.get('http://ws.audioscrobbler.com/2.0/?method=artist.getTopTags&artist=thecure&api_key=API_KEY&format=json')\n",
    "response"
   ]
  },
  {
   "cell_type": "code",
   "execution_count": 42,
   "metadata": {},
   "outputs": [
    {
     "name": "stdout",
     "output_type": "stream",
     "text": [
      "['post-punk', 'new wave', 'alternative', '80s', 'rock', 'seen live', 'alternative rock', 'goth', 'british', 'indie', 'Gothic Rock', 'Gothic', 'The Cure', 'pop', 'Post punk', 'darkwave', 'punk', 'goth rock', 'indie rock', 'classic rock', 'dark', 'UK', '90s', 'britpop', 'cold wave', 'electronic', 'melancholic', 'dark wave', 'male vocalists', 'Cure', '70s', 'favorites', 'english', \"80's\", 'synth pop', 'Love', 'emo', 'england', 'robert smith', 'punk rock', 'synthpop', 'psychedelic', 'indie pop', 'melancholy']\n"
     ]
    }
   ],
   "source": [
    "resp_json = response.json()['toptags']['tag']\n",
    "\n",
    "print([tag['name'] for tag in resp_json])"
   ]
  },
  {
   "cell_type": "code",
   "execution_count": 43,
   "metadata": {},
   "outputs": [
    {
     "data": {
      "text/plain": [
       "<Response [200]>"
      ]
     },
     "execution_count": 43,
     "metadata": {},
     "output_type": "execute_result"
    }
   ],
   "source": [
    "# Query top artists in the post-punk top tag\n",
    "response = r.get('http://ws.audioscrobbler.com/2.0/?method=tag.gettopartists&tag=post-punk&api_key=API_KEY&format=json')\n",
    "response"
   ]
  },
  {
   "cell_type": "code",
   "execution_count": 46,
   "metadata": {},
   "outputs": [
    {
     "name": "stdout",
     "output_type": "stream",
     "text": [
      "['The Cure', 'Joy Division', 'Nick Cave & The Bad Seeds', 'Swans', 'Siouxsie and the Banshees', 'Echo & the Bunnymen', 'Bauhaus', 'She Wants Revenge', 'Wire', 'Parquet Courts', 'The Fall', 'Killing Joke', 'Gang of Four', 'Motorama', 'Iceage', 'Television', 'Idles', 'The Chameleons', 'Public Image Ltd.', 'Savages', 'These New Puritans', 'Les Savy Fav', 'The Soft Moon', 'Protomartyr', 'New Model Army', 'The The', 'Mission of Burma', 'Suicide', 'Felt', 'Lebanon Hanover', 'The Durutti Column', 'The Birthday Party', 'Crystal Stilts', 'Peter Murphy', 'The Gun Club', 'The Sound', 'The Feelies', 'Orange Juice', 'Pere Ubu', 'Magazine', 'Young Marble Giants', 'Sleaford Mods', 'Ought', 'Love And Rockets', 'Preoccupations', 'DRAB MAJESTY', 'Tuxedomoon', 'The Clean', \"I Love You But I've Chosen Darkness\", 'Television Personalities']\n"
     ]
    }
   ],
   "source": [
    "resp_json = response.json()['topartists']['artist']\n",
    "\n",
    "print([band['name'] for band in resp_json])"
   ]
  },
  {
   "cell_type": "markdown",
   "metadata": {},
   "source": [
    "### Combining LastFM and MetroLyrics"
   ]
  },
  {
   "cell_type": "code",
   "execution_count": null,
   "metadata": {},
   "outputs": [],
   "source": []
  }
 ],
 "metadata": {
  "kernelspec": {
   "display_name": "conda_python3",
   "language": "python",
   "name": "conda_python3"
  },
  "language_info": {
   "codemirror_mode": {
    "name": "ipython",
    "version": 3
   },
   "file_extension": ".py",
   "mimetype": "text/x-python",
   "name": "python",
   "nbconvert_exporter": "python",
   "pygments_lexer": "ipython3",
   "version": "3.6.5"
  }
 },
 "nbformat": 4,
 "nbformat_minor": 4
}
