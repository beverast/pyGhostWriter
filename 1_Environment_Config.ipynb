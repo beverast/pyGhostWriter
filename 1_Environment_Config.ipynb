{
 "cells": [
  {
   "cell_type": "markdown",
   "metadata": {},
   "source": [
    "## System and Environment Configuration for `pyGhostWriter`\n",
    "\n",
    "###### Updated on 10/4/2019"
   ]
  },
  {
   "cell_type": "markdown",
   "metadata": {},
   "source": [
    "------------\n",
    "### 1. Operating System\n",
    "\n",
    "For local development I use Windows Subsystem for Linux (WSL). My distro of choice is Ubuntu.\n",
    "\n",
    "If you're not using Linux here are the docs for installing WSL on Windows 10:\n",
    "\n",
    "> https://docs.microsoft.com/en-us/windows/wsl/install-win10\n",
    "\n",
    "After the installation `update` and `upgrade` your system, then configure `git` if necessary."
   ]
  },
  {
   "cell_type": "markdown",
   "metadata": {},
   "source": [
    "### 2. Virtual Environment and Package Manager\n",
    "\n",
    "I use Miniconda/`conda` for local development, usually. Other times I might use `pipenv` if the project isn't predominantly data science. A few reasons I prefer Miniconda to pipenv or nothing at all:\n",
    "- Reproducible environment, but more lightweight than Docker\n",
    "- Miniconda is a smaller build compared to Anaconda\n",
    "- Less headaches when using various versions of Python\n",
    "\n",
    "Docs for installing `conda` on Linux: \n",
    "> https://docs.conda.io/projects/conda/en/latest/user-guide/install/linux.html#install-linux-silent"
   ]
  },
  {
   "cell_type": "markdown",
   "metadata": {},
   "source": [
    "### 3. Tooling\n",
    "\n",
    "In this repository there is a file entitled `environment.yml`. It defines the modules and dependencies necessary to run this code as an environment called `pyGW`. It also includes JupyterLab (`jupyter lab`) as the notebook IDE.\n",
    "\n",
    "Docs for creating a conda environment from file:\n",
    "> https://docs.conda.io/projects/conda/en/latest/user-guide/tasks/manage-environments.html#creating-an-environment-from-an-environment-yml-file\n",
    "\n",
    "_Proceed with caution if you choose to update or extend this environment. Breaking changes can occur in updates._"
   ]
  },
  {
   "cell_type": "markdown",
   "metadata": {},
   "source": [
    "### 4. Running Notebooks\n",
    "\n",
    "After activating the `pyGW` environment simply run `jupyter lab` then choose the applicable notebook.\n",
    "\n",
    "Note: To perform code formatting on notebooks I recommend `blackcellmagic`.\n",
    "> https://github.com/csurfer/blackcellmagic\n",
    "- Since I'm using conda, I want to avoid pip as much as possible. \n",
    "- `blackcellmagic` can be installed either via pip or cloning the repo. I opted to clone."
   ]
  },
  {
   "cell_type": "markdown",
   "metadata": {},
   "source": [
    "### 5. Github Workflow\n",
    "\n",
    "#### Acquiring the pyGhostWriter codebase\n",
    "1. Fork then clone https://github.com/pyGhostWriter/pyGhostWriter\n",
    "2. Add pyGhostWriter as a remote repo called upstream: `git remote add upstream https://github.com/pyGhostWriter/pyGhostWriter.git`\n",
    "3. Fetch all branches and commits from upstream: `git fetch upstream`\n",
    "4. Checkout your local master branch: `git checkout master`\n",
    "\n",
    "#### Syncing your fork\n",
    "1. Checkout your fork's local master branch: `git checkout master`\n",
    "2. Fetch new commits and branches from upstream: `git fetch upstream`\n",
    "3. (Optional) Stash any changes you have made: `git stash`\n",
    "4. Merge upstream changes into your local master branch: `git merge upstream/master`\n",
    "5. Resolve any possible merge conflicts: `git commit add [files]` -> `git commit -m \"Merge from upstream\"`\n",
    "6. Push changes to your fork: `git push`\n",
    "7. Retrieve your local changes: `git stash pop`\n",
    "\n",
    "#### Opening a Pull Request to pyGhostWriter\n",
    "1. Make changes and commit them -> `git add [files]` -> `git commit -m \"[changes]\"`\n",
    "2. Push to your fork: `get push`\n",
    "3. Open a PR comparing your fork to `pyGhostWriter/pyGhostWriter` repo via the Github UI.\n",
    "4. Sync your fork after the PR is merged.\n",
    "\n"
   ]
  }
 ],
 "metadata": {
  "kernelspec": {
   "display_name": "Python 3",
   "language": "python",
   "name": "python3"
  },
  "language_info": {
   "codemirror_mode": {
    "name": "ipython",
    "version": 3
   },
   "file_extension": ".py",
   "mimetype": "text/x-python",
   "name": "python",
   "nbconvert_exporter": "python",
   "pygments_lexer": "ipython3",
   "version": "3.7.3"
  }
 },
 "nbformat": 4,
 "nbformat_minor": 4
}
